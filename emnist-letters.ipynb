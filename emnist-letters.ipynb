{
 "cells": [
  {
   "cell_type": "code",
   "execution_count": 1,
   "metadata": {},
   "outputs": [],
   "source": [
    "%matplotlib inline\n",
    "\n",
    "import matplotlib.pyplot as plt\n",
    "from sklearn.utils.class_weight import compute_class_weight\n",
    "import numpy as np\n",
    "import tensorflow as tf\n",
    "import tensorflow_datasets as tfds\n",
    "from emnist import extract_training_samples, extract_test_samples"
   ]
  },
  {
   "cell_type": "code",
   "execution_count": 2,
   "metadata": {},
   "outputs": [],
   "source": [
    "x_train, y_train = extract_training_samples(\"letters\")\n",
    "x_test, y_test = extract_test_samples('letters')\n",
    "img_side = 28\n",
    "input_shape = (img_side, img_side, 1)\n",
    "num_classes = 27"
   ]
  },
  {
   "cell_type": "code",
   "execution_count": 3,
   "metadata": {},
   "outputs": [
    {
     "data": {
      "text/plain": [
       "((124800, 28, 28, 1), (124800,), (20800, 28, 28, 1), (20800,))"
      ]
     },
     "execution_count": 3,
     "metadata": {},
     "output_type": "execute_result"
    }
   ],
   "source": [
    "x_train = x_train.reshape(-1, img_side, img_side, 1)\n",
    "x_test = x_test.reshape(-1, img_side, img_side, 1)\n",
    "\n",
    "ds_train = tf.data.Dataset.from_tensor_slices((x_train, y_train))\n",
    "ds_test = tf.data.Dataset.from_tensor_slices((x_test, y_test))\n",
    "\n",
    "x_train.shape, y_train.shape, x_test.shape, y_test.shape"
   ]
  },
  {
   "cell_type": "code",
   "execution_count": 4,
   "metadata": {},
   "outputs": [],
   "source": [
    "def normalize_img(image, label):\n",
    "  \"\"\"Normalizes images: `uint8` -> `float32`.\"\"\"\n",
    "  return tf.cast(image, tf.float32) / 255., label\n",
    "\n",
    "ds_train = ds_train.map(\n",
    "    normalize_img, num_parallel_calls=tf.data.experimental.AUTOTUNE)\n",
    "ds_train = ds_train.cache()\n",
    "ds_train = ds_train.shuffle(x_train.shape[0])\n",
    "ds_train = ds_train.batch(128)\n",
    "ds_train = ds_train.prefetch(tf.data.experimental.AUTOTUNE)"
   ]
  },
  {
   "cell_type": "code",
   "execution_count": 5,
   "metadata": {},
   "outputs": [],
   "source": [
    "ds_test = ds_test.map(\n",
    "    normalize_img, num_parallel_calls=tf.data.experimental.AUTOTUNE)\n",
    "ds_test = ds_test.batch(128)\n",
    "ds_test = ds_test.cache()\n",
    "ds_test = ds_test.prefetch(tf.data.experimental.AUTOTUNE)"
   ]
  },
  {
   "cell_type": "code",
   "execution_count": 6,
   "metadata": {},
   "outputs": [],
   "source": [
    "from tensorflow.keras.models import Sequential\n",
    "from tensorflow.keras.layers import Dense, Dropout, Flatten\n",
    "from tensorflow.keras.layers import Conv2D, MaxPooling2D\n",
    "\n",
    "model = Sequential([\n",
    "    Conv2D(16, (3, 3), padding='same', input_shape=input_shape, activation='relu'),\n",
    "    MaxPooling2D(pool_size=(2, 2)),\n",
    "    Conv2D(32, (3, 3), padding='same', activation= 'relu'),\n",
    "    MaxPooling2D(pool_size=(2, 2)),\n",
    "    Conv2D(64, (3, 3), padding='same', activation= 'relu'),\n",
    "    MaxPooling2D(pool_size =(2,2)),\n",
    "    Flatten(),\n",
    "    Dense(128, activation='relu'),\n",
    "    Dense(num_classes, activation='softmax'),\n",
    "])"
   ]
  },
  {
   "cell_type": "code",
   "execution_count": 7,
   "metadata": {},
   "outputs": [
    {
     "name": "stdout",
     "output_type": "stream",
     "text": [
      "Epoch 1/200\n",
      "975/975 [==============================] - 31s 32ms/step - loss: 0.5969 - accuracy: 0.8166 - val_loss: 0.3163 - val_accuracy: 0.8990\n",
      "Epoch 2/200\n",
      "975/975 [==============================] - 31s 32ms/step - loss: 0.2659 - accuracy: 0.9121 - val_loss: 0.2629 - val_accuracy: 0.9140\n",
      "Epoch 3/200\n",
      "975/975 [==============================] - 39s 40ms/step - loss: 0.2159 - accuracy: 0.9274 - val_loss: 0.2206 - val_accuracy: 0.9267\n",
      "Epoch 4/200\n",
      "975/975 [==============================] - 40s 41ms/step - loss: 0.1893 - accuracy: 0.9355 - val_loss: 0.2173 - val_accuracy: 0.9288\n",
      "Epoch 5/200\n",
      "975/975 [==============================] - 38s 39ms/step - loss: 0.1715 - accuracy: 0.9404 - val_loss: 0.1967 - val_accuracy: 0.9332\n",
      "Epoch 6/200\n",
      "975/975 [==============================] - 37s 38ms/step - loss: 0.1586 - accuracy: 0.9444 - val_loss: 0.2005 - val_accuracy: 0.9348\n",
      "Epoch 7/200\n",
      "975/975 [==============================] - 38s 39ms/step - loss: 0.1451 - accuracy: 0.9482 - val_loss: 0.2090 - val_accuracy: 0.9324\n",
      "Epoch 8/200\n",
      "975/975 [==============================] - 37s 38ms/step - loss: 0.1360 - accuracy: 0.9510 - val_loss: 0.1893 - val_accuracy: 0.9382\n",
      "Epoch 9/200\n",
      "975/975 [==============================] - 39s 40ms/step - loss: 0.1264 - accuracy: 0.9540 - val_loss: 0.1916 - val_accuracy: 0.9374\n",
      "Epoch 10/200\n",
      "975/975 [==============================] - 41s 42ms/step - loss: 0.1190 - accuracy: 0.9556 - val_loss: 0.1991 - val_accuracy: 0.9369\n",
      "Epoch 11/200\n",
      "975/975 [==============================] - 40s 41ms/step - loss: 0.1113 - accuracy: 0.9577 - val_loss: 0.2160 - val_accuracy: 0.9330\n",
      "Epoch 12/200\n",
      "975/975 [==============================] - 38s 39ms/step - loss: 0.1057 - accuracy: 0.9600 - val_loss: 0.2089 - val_accuracy: 0.9358\n",
      "Epoch 13/200\n",
      "975/975 [==============================] - 38s 39ms/step - loss: 0.0993 - accuracy: 0.9616 - val_loss: 0.2004 - val_accuracy: 0.9387\n",
      "Epoch 14/200\n",
      "975/975 [==============================] - 37s 38ms/step - loss: 0.0934 - accuracy: 0.9636 - val_loss: 0.2299 - val_accuracy: 0.9325\n",
      "Epoch 15/200\n",
      "975/975 [==============================] - 37s 38ms/step - loss: 0.0904 - accuracy: 0.9639 - val_loss: 0.2251 - val_accuracy: 0.9353\n",
      "Epoch 16/200\n",
      "975/975 [==============================] - 38s 39ms/step - loss: 0.0841 - accuracy: 0.9658 - val_loss: 0.2384 - val_accuracy: 0.9370\n",
      "Epoch 17/200\n",
      "975/975 [==============================] - 39s 40ms/step - loss: 0.0800 - accuracy: 0.9671 - val_loss: 0.2361 - val_accuracy: 0.9362\n",
      "Epoch 18/200\n",
      "975/975 [==============================] - ETA: 0s - loss: 0.0762 - accuracy: 0.9686Restoring model weights from the end of the best epoch.\n",
      "975/975 [==============================] - 39s 40ms/step - loss: 0.0762 - accuracy: 0.9686 - val_loss: 0.2469 - val_accuracy: 0.9336\n",
      "Epoch 00018: early stopping\n"
     ]
    },
    {
     "data": {
      "text/plain": [
       "<tensorflow.python.keras.callbacks.History at 0x10f49e5e0>"
      ]
     },
     "execution_count": 7,
     "metadata": {},
     "output_type": "execute_result"
    }
   ],
   "source": [
    "model.compile(\n",
    "    loss='sparse_categorical_crossentropy',\n",
    "    optimizer=tf.keras.optimizers.Adam(0.001),\n",
    "    metrics=['accuracy'],\n",
    ")\n",
    "\n",
    "es = tf.keras.callbacks.EarlyStopping(\n",
    "    monitor='val_loss',\n",
    "    mode='min',\n",
    "    verbose=1,\n",
    "    patience=10,\n",
    "    restore_best_weights=True)\n",
    "\n",
    "model.fit(\n",
    "    ds_train,\n",
    "    epochs=200,\n",
    "    verbose=1,\n",
    "    validation_data=ds_test,\n",
    "    callbacks=[es]\n",
    ")\n"
   ]
  },
  {
   "cell_type": "code",
   "execution_count": 8,
   "metadata": {},
   "outputs": [
    {
     "name": "stdout",
     "output_type": "stream",
     "text": [
      "163/163 [==============================] - 1s 9ms/step - loss: 0.1893 - accuracy: 0.9382\n"
     ]
    },
    {
     "data": {
      "text/plain": [
       "[0.18927590548992157, 0.9382211565971375]"
      ]
     },
     "execution_count": 8,
     "metadata": {},
     "output_type": "execute_result"
    }
   ],
   "source": [
    "model.evaluate(ds_test)"
   ]
  },
  {
   "cell_type": "code",
   "execution_count": 9,
   "metadata": {},
   "outputs": [],
   "source": [
    "model.save('mnist_cnn_model.h5')"
   ]
  }
 ],
 "metadata": {
  "kernelspec": {
   "display_name": "Python 3",
   "language": "python",
   "name": "python3"
  },
  "language_info": {
   "codemirror_mode": {
    "name": "ipython",
    "version": 3
   },
   "file_extension": ".py",
   "mimetype": "text/x-python",
   "name": "python",
   "nbconvert_exporter": "python",
   "pygments_lexer": "ipython3",
   "version": "3.8.5"
  }
 },
 "nbformat": 4,
 "nbformat_minor": 4
}
