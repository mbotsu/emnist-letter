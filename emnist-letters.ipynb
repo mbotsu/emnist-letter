{
 "cells": [
  {
   "cell_type": "code",
   "execution_count": 1,
   "metadata": {},
   "outputs": [],
   "source": [
    "import numpy as np\n",
    "import tensorflow as tf\n",
    "import tensorflow_datasets as tfds\n",
    "from emnist import extract_training_samples, extract_test_samples"
   ]
  },
  {
   "cell_type": "code",
   "execution_count": 2,
   "metadata": {},
   "outputs": [],
   "source": [
    "x_train, y_train = extract_training_samples(\"letters\")\n",
    "x_test, y_test = extract_test_samples('letters')\n",
    "img_side = 28\n",
    "input_shape = (img_side, img_side, 1)"
   ]
  },
  {
   "cell_type": "code",
   "execution_count": 3,
   "metadata": {},
   "outputs": [],
   "source": [
    "y_train = y_train - 1\n",
    "y_test = y_test - 1\n",
    "\n",
    "unique_classes = np.unique(y_train)\n",
    "num_classes = len(unique_classes)"
   ]
  },
  {
   "cell_type": "code",
   "execution_count": 4,
   "metadata": {},
   "outputs": [
    {
     "data": {
      "text/plain": [
       "((124800, 28, 28, 1), (124800,), (20800, 28, 28, 1), (20800,))"
      ]
     },
     "execution_count": 4,
     "metadata": {},
     "output_type": "execute_result"
    }
   ],
   "source": [
    "x_train = x_train.reshape(-1, img_side, img_side, 1)\n",
    "x_test = x_test.reshape(-1, img_side, img_side, 1)\n",
    "\n",
    "ds_train = tf.data.Dataset.from_tensor_slices((x_train, y_train))\n",
    "ds_test = tf.data.Dataset.from_tensor_slices((x_test, y_test))\n",
    "\n",
    "x_train.shape, y_train.shape, x_test.shape, y_test.shape"
   ]
  },
  {
   "cell_type": "code",
   "execution_count": 5,
   "metadata": {},
   "outputs": [],
   "source": [
    "def normalize_img(image, label):\n",
    "  \"\"\"Normalizes images: `uint8` -> `float32`.\"\"\"\n",
    "  return tf.cast(image, tf.float32) / 255., label\n",
    "\n",
    "ds_train = ds_train.map(\n",
    "    normalize_img, num_parallel_calls=tf.data.experimental.AUTOTUNE)\n",
    "ds_train = ds_train.cache()\n",
    "ds_train = ds_train.shuffle(x_train.shape[0])\n",
    "ds_train = ds_train.batch(128)\n",
    "ds_train = ds_train.prefetch(tf.data.experimental.AUTOTUNE)"
   ]
  },
  {
   "cell_type": "code",
   "execution_count": 6,
   "metadata": {},
   "outputs": [],
   "source": [
    "ds_test = ds_test.map(\n",
    "    normalize_img, num_parallel_calls=tf.data.experimental.AUTOTUNE)\n",
    "ds_test = ds_test.batch(128)\n",
    "ds_test = ds_test.cache()\n",
    "ds_test = ds_test.prefetch(tf.data.experimental.AUTOTUNE)"
   ]
  },
  {
   "cell_type": "code",
   "execution_count": 7,
   "metadata": {},
   "outputs": [],
   "source": [
    "from tensorflow.keras.models import Sequential\n",
    "from tensorflow.keras.layers import Dense, Dropout, Flatten\n",
    "from tensorflow.keras.layers import Conv2D, MaxPooling2D\n",
    "\n",
    "model = Sequential([\n",
    "    Conv2D(16, (3, 3), padding='same', input_shape=input_shape, activation='relu'),\n",
    "    MaxPooling2D(pool_size=(2, 2)),\n",
    "    Conv2D(32, (3, 3), padding='same', activation= 'relu'),\n",
    "    MaxPooling2D(pool_size=(2, 2)),\n",
    "    Conv2D(64, (3, 3), padding='same', activation= 'relu'),\n",
    "    MaxPooling2D(pool_size =(2,2)),\n",
    "    Flatten(),\n",
    "    Dense(128, activation='relu'),\n",
    "    Dense(num_classes, activation='softmax'),\n",
    "])"
   ]
  },
  {
   "cell_type": "code",
   "execution_count": 8,
   "metadata": {},
   "outputs": [
    {
     "name": "stdout",
     "output_type": "stream",
     "text": [
      "Epoch 1/200\n",
      "975/975 [==============================] - 28s 29ms/step - loss: 0.5756 - accuracy: 0.8224 - val_loss: 0.3062 - val_accuracy: 0.9013\n",
      "Epoch 2/200\n",
      "975/975 [==============================] - 30s 31ms/step - loss: 0.2570 - accuracy: 0.9152 - val_loss: 0.2465 - val_accuracy: 0.9194\n",
      "Epoch 3/200\n",
      "975/975 [==============================] - 31s 32ms/step - loss: 0.2091 - accuracy: 0.9299 - val_loss: 0.2222 - val_accuracy: 0.9259\n",
      "Epoch 4/200\n",
      "975/975 [==============================] - 30s 30ms/step - loss: 0.1862 - accuracy: 0.9362 - val_loss: 0.2089 - val_accuracy: 0.9320\n",
      "Epoch 5/200\n",
      "975/975 [==============================] - 29s 29ms/step - loss: 0.1662 - accuracy: 0.9423 - val_loss: 0.1907 - val_accuracy: 0.9365\n",
      "Epoch 6/200\n",
      "975/975 [==============================] - 29s 30ms/step - loss: 0.1540 - accuracy: 0.9460 - val_loss: 0.1984 - val_accuracy: 0.9324\n",
      "Epoch 7/200\n",
      "975/975 [==============================] - 30s 31ms/step - loss: 0.1436 - accuracy: 0.9493 - val_loss: 0.1877 - val_accuracy: 0.9397\n",
      "Epoch 8/200\n",
      "975/975 [==============================] - 30s 31ms/step - loss: 0.1346 - accuracy: 0.9507 - val_loss: 0.1878 - val_accuracy: 0.9381\n",
      "Epoch 9/200\n",
      "975/975 [==============================] - 30s 31ms/step - loss: 0.1255 - accuracy: 0.9537 - val_loss: 0.1972 - val_accuracy: 0.9378\n",
      "Epoch 10/200\n",
      "975/975 [==============================] - 32s 33ms/step - loss: 0.1178 - accuracy: 0.9561 - val_loss: 0.1834 - val_accuracy: 0.9417\n",
      "Epoch 11/200\n",
      "975/975 [==============================] - 31s 32ms/step - loss: 0.1106 - accuracy: 0.9585 - val_loss: 0.2040 - val_accuracy: 0.9365\n",
      "Epoch 12/200\n",
      "975/975 [==============================] - 31s 32ms/step - loss: 0.1041 - accuracy: 0.9600 - val_loss: 0.1986 - val_accuracy: 0.9404\n",
      "Epoch 13/200\n",
      "975/975 [==============================] - 31s 32ms/step - loss: 0.0987 - accuracy: 0.9618 - val_loss: 0.2007 - val_accuracy: 0.9382\n",
      "Epoch 14/200\n",
      "975/975 [==============================] - 31s 32ms/step - loss: 0.0938 - accuracy: 0.9626 - val_loss: 0.2017 - val_accuracy: 0.9399\n",
      "Epoch 15/200\n",
      "975/975 [==============================] - 31s 32ms/step - loss: 0.0892 - accuracy: 0.9642 - val_loss: 0.2087 - val_accuracy: 0.9391\n",
      "Epoch 16/200\n",
      "975/975 [==============================] - 31s 32ms/step - loss: 0.0855 - accuracy: 0.9652 - val_loss: 0.2141 - val_accuracy: 0.9394\n",
      "Epoch 17/200\n",
      "975/975 [==============================] - 32s 33ms/step - loss: 0.0802 - accuracy: 0.9670 - val_loss: 0.2207 - val_accuracy: 0.9395\n",
      "Epoch 18/200\n",
      "975/975 [==============================] - 32s 33ms/step - loss: 0.0762 - accuracy: 0.9686 - val_loss: 0.2330 - val_accuracy: 0.9391\n",
      "Epoch 19/200\n",
      "975/975 [==============================] - 32s 33ms/step - loss: 0.0737 - accuracy: 0.9690 - val_loss: 0.2371 - val_accuracy: 0.9381\n",
      "Epoch 20/200\n",
      "975/975 [==============================] - ETA: 0s - loss: 0.0714 - accuracy: 0.9697Restoring model weights from the end of the best epoch.\n",
      "975/975 [==============================] - 32s 33ms/step - loss: 0.0714 - accuracy: 0.9697 - val_loss: 0.2393 - val_accuracy: 0.9398\n",
      "Epoch 00020: early stopping\n"
     ]
    },
    {
     "data": {
      "text/plain": [
       "<tensorflow.python.keras.callbacks.History at 0x1494a1190>"
      ]
     },
     "execution_count": 8,
     "metadata": {},
     "output_type": "execute_result"
    }
   ],
   "source": [
    "model.compile(\n",
    "    loss='sparse_categorical_crossentropy',\n",
    "    optimizer=tf.keras.optimizers.Adam(0.001),\n",
    "    metrics=['accuracy'],\n",
    ")\n",
    "\n",
    "es = tf.keras.callbacks.EarlyStopping(\n",
    "    monitor='val_loss',\n",
    "    mode='min',\n",
    "    verbose=1,\n",
    "    patience=10,\n",
    "    restore_best_weights=True)\n",
    "\n",
    "model.fit(\n",
    "    ds_train,\n",
    "    epochs=200,\n",
    "    verbose=1,\n",
    "    validation_data=ds_test,\n",
    "    callbacks=[es]\n",
    ")\n"
   ]
  },
  {
   "cell_type": "code",
   "execution_count": 9,
   "metadata": {},
   "outputs": [
    {
     "name": "stdout",
     "output_type": "stream",
     "text": [
      "163/163 [==============================] - 1s 7ms/step - loss: 0.1834 - accuracy: 0.9417\n"
     ]
    },
    {
     "data": {
      "text/plain": [
       "[0.1834419220685959, 0.9416826963424683]"
      ]
     },
     "execution_count": 9,
     "metadata": {},
     "output_type": "execute_result"
    }
   ],
   "source": [
    "model.evaluate(ds_test)"
   ]
  },
  {
   "cell_type": "code",
   "execution_count": 10,
   "metadata": {},
   "outputs": [],
   "source": [
    "model.save('mnist_cnn_model.h5')"
   ]
  }
 ],
 "metadata": {
  "kernelspec": {
   "display_name": "Python 3",
   "language": "python",
   "name": "python3"
  },
  "language_info": {
   "codemirror_mode": {
    "name": "ipython",
    "version": 3
   },
   "file_extension": ".py",
   "mimetype": "text/x-python",
   "name": "python",
   "nbconvert_exporter": "python",
   "pygments_lexer": "ipython3",
   "version": "3.8.5"
  }
 },
 "nbformat": 4,
 "nbformat_minor": 4
}
